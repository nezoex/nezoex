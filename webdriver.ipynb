{
 "cells": [
  {
   "cell_type": "code",
   "execution_count": null,
   "metadata": {},
   "outputs": [],
   "source": [
    "import pandas as pd\n",
    "import sqlalchemy\n",
    "import os\n",
    "import sys\n",
    "from selenium import webdriver\n",
    "from selenium.webdriver.common.by import By\n",
    "from selenium.webdriver.common.keys import Keys\n",
    "from selenium.webdriver.common.action_chains import ActionChains\n",
    "from selenium.webdriver.support.ui import WebDriverWait\n",
    "from selenium.webdriver.support import expected_conditions as EC\n",
    "import time\n",
    "from datetime import date\n",
    "import traceback\n",
    "from bs4 import BeautifulSoup\n",
    "\n",
    "inf_path
    "options=webdriver.ChromeOptions()\n",
    "options.add_experimental_option(\"prefs\", value={\"download.default_directory\":inf_path})\n",
    "options.add_experimental_option(\"prefs\", value={\"download.default_directory\":inf_path})\n",
    "browser = webdriver.Chrome(options=options)     \n",
    "browser.get('https://customs.gov.ru/statistic/vneshn-torg/vneshn-torg-countries')\n",
    "time.sleep(5)\n",
    "for j in range(30):\n",
    "    excel_links = [c for c in browser.find_elements(By.CLASS_NAME, 'icon-doc__type') if c.text == 'XLSX']\n",
    "    for i in excel_links:\n",
    "        i.click()\n",
    "        time.sleep(5)\n",
    "    [a for a in browser.find_elements(By.CLASS_NAME, 'pagination__link') if a.text == 'Далее'][0].click()\n",
    "    time.sleep(5)"
   ]
  }
 ],
 "metadata": {
  "kernelspec": {
   "display_name": "Python 3",
   "language": "python",
   "name": "python3"
  },
  "language_info": {
   "codemirror_mode": {
    "name": "ipython",
    "version": 3
   },
   "file_extension": ".py",
   "mimetype": "text/x-python",
   "name": "python",
   "nbconvert_exporter": "python",
   "pygments_lexer": "ipython3",
   "version": "3.11.9"
  }
 },
 "nbformat": 4,
 "nbformat_minor": 2
}
