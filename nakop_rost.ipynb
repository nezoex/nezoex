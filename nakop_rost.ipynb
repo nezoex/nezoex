{
 "cells": [
  {
   "cell_type": "code",
   "execution_count": 1,
   "metadata": {},
   "outputs": [
    {
     "name": "stdout",
     "output_type": "stream",
     "text": [
      "2025-02-20 14:28:58,661 INFO sqlalchemy.engine.Engine select @@version\n",
      "2025-02-20 14:28:58,662 INFO sqlalchemy.engine.Engine [raw sql] {}\n",
      "2025-02-20 14:28:58,666 INFO sqlalchemy.engine.Engine SELECT schema_name()\n",
      "2025-02-20 14:28:58,667 INFO sqlalchemy.engine.Engine [generated in 0.00104s] {}\n",
      "2025-02-20 14:28:58,670 INFO sqlalchemy.engine.Engine SELECT CAST('test max support' AS NVARCHAR(max))\n",
      "2025-02-20 14:28:58,671 INFO sqlalchemy.engine.Engine [generated in 0.00104s] {}\n",
      "2025-02-20 14:28:58,673 INFO sqlalchemy.engine.Engine SELECT 1 FROM fn_listextendedproperty(default, default, default, default, default, default, default)\n",
      "2025-02-20 14:28:58,674 INFO sqlalchemy.engine.Engine [generated in 0.00091s] {}\n"
     ]
    }
   ],
   "source": [
    "import numpy as np\n",
    "import pandas as pd\n",
    "import os\n",
    "import patoolib\n",
    "import requests\n",
    "import sqlalchemy\n",
    "import urllib\n",
    "import re\n",
    "from functools import reduce\n",
    "from operator import mul\n",
    "import math\n",
    "engine
    "con = engine.connect()\n"
   ]
  },
  {
   "cell_type": "code",
   "execution_count": null,
   "metadata": {},
   "outputs": [
    {
     "name": "stdout",
     "output_type": "stream",
     "text": [
      "2025-02-20 17:06:50,380 INFO sqlalchemy.engine.Engine \n",
      "        SELECT [Период], [Регион], [пп]/100 as value FROM [MAIN].[statistics].[ipp]\n",
      "        WHERE [Регион] in ('Российская федерация') AND MONTH([Период]) = 12 AND YEAR([Период]) >= (SELECT MAX(YEAR([Период]))-5 FROM [MAIN].[statistics].[ipp]) AND [Код ОКВЭД] = ('C')\n",
      "        \n",
      "2025-02-20 17:06:50,382 INFO sqlalchemy.engine.Engine [raw sql] {}\n",
      "2025-02-20 17:06:50,417 INFO sqlalchemy.engine.Engine \n",
      "        SELECT [Период], [Регион], [пп]/100 as value FROM [MAIN].[statistics].[ipp]\n",
      "        WHERE [Регион] in ('г. Москва') AND MONTH([Период]) = 12 AND YEAR([Период]) >= (SELECT MAX(YEAR([Период]))-5 FROM [MAIN].[statistics].[ipp]) AND [Код ОКВЭД] = ('C')\n",
      "        \n",
      "2025-02-20 17:06:50,417 INFO sqlalchemy.engine.Engine [raw sql] {}\n"
     ]
    }
   ],
   "source": [
    "def get_data(n, date, region, schema, table, value, region_filter, filter_col, filter):\n",
    "    if filter is not None:\n",
    "        filter_query = f\" AND [{filter_col}] = ('{filter}')\"\n",
    "    else:\n",
    "        filter_query = f\"\"\n",
    "    if date == 'Год':\n",
    "        df = pd.read_sql_query(f\"\"\"\n",
    "        SELECT [{date}], [{region}], [{value}]/100 as value FROM [MAIN].[{schema}].[{table}]\n",
    "        WHERE [{region}] in ('{region_filter}') AND [{date}] >=(SELECT MAX([{date}])-{n} FROM [MAIN].[{schema}].[{table}]){filter_query}\n",
    "        \"\"\",\n",
    "        con = con\n",
    "        )\n",
    "    else:\n",
    "        df = pd.read_sql_query(f\"\"\"\n",
    "        SELECT [{date}], [{region}], [{value}]/100 as value FROM [MAIN].[{schema}].[{table}]\n",
    "        WHERE [{region}] in ('{region_filter}') AND MONTH([{date}]) = 12 AND YEAR([{date}]) >= (SELECT MAX(YEAR([{date}]))-{n} FROM [MAIN].[{schema}].[{table}]){filter_query}\n",
    "        \"\"\",\n",
    "        con = con\n",
    "        )\n",
    "    value = (math.prod(df['value'])*100-100)\n",
    "    return value\n",
    "MSK_invest_value = get_data('5', 'Период', 'Регион', 'statistics', 'invest', 'пп', 'г. Москва', None, None)\n",
    "RUS_invest_value = get_data('5', 'Период', 'Регион', 'statistics', 'invest', 'пп', 'Российская Федерация', None, None)\n",
    "MSK_inflation_value = get_data('5', 'Дата', 'Регион', 'statistics', 'cpi', 'ВРП ИФО гг', 'г. Москва', 'Показатель', 'Период с начала года к соответствующему периоду предыдущего года')\n",
    "RUS_inflation_value = get_data('5', 'Дата', 'Регион', 'statistics', 'cpi', 'ВРП ИФО гг', 'Российская Федерация', 'Показатель', 'Период с начала года к соответствующему периоду предыдущего года')\n",
    "MSK_grp_value = get_data('5', 'Год', 'Регион', 'statistics', 'grp', 'ВРП ИФО гг', 'г. Москва', None, None)\n",
    "RUS_grp_value = get_data('5', 'Год', 'Регион', 'statistics', 'grp', 'ВРП ИФО гг', 'Российская Федерация', None, None)\n",
    "MSK_real_income_value = get_data('5', 'Год', 'Регион', 'statistics', 'real_income', 'Значение', 'Российская Федерация', None, None)\n",
    "RUS_real_income_value = get_data('5', 'Год', 'Регион', 'statistics', 'real_income', 'Значение', 'г. Москва', None, None)\n",
    "RUS_pun_value = get_data('5', 'Период', 'Регион', 'statistics', 'pun', 'пп', 'Российская Федерация', 'Вид услуг', 'Всего платные услуги')\n",
    "MSK_pun_value = get_data('5', 'Период', 'Регион', 'statistics', 'pun', 'пп', 'г. Москва', 'Вид услуг', 'Всего платные услуги')\n",
    "MSK_trade_value = get_data('5', 'Период', 'Регион', 'statistics', 'trade', 'пп', 'Российская Федерация', 'Разрез', 'Всего')\n",
    "RUS_trade_value = get_data('5', 'Период', 'Регион', 'statistics', 'trade', 'пп', 'г. Москва', 'Разрез', 'Всего')\n",
    "RUS_obschepit_value = get_data('5', 'Период', 'Регион', 'statistics', 'obschepit', 'пп', 'Российская Федерация', None, None)\n",
    "MSK_obschepit_value = get_data('5', 'Период', 'Регион', 'statistics', 'obschepit', 'пп', 'г. Москва', None, None)\n",
    "MSK_build_value = get_data('5', 'Период', 'Регион', 'statistics', 'build', 'пп', 'г. Москва', None, None)\n",
    "RUS_build_value = get_data('5', 'Период', 'Регион', 'statistics', 'build', 'пп', 'Российская Федерация', None, None)\n",
    "RUS_ipp_value = get_data('5', 'Период', 'Регион', 'statistics', 'ipp', 'пп', 'Российская федерация','Код ОКВЭД', 'C')\n",
    "MSK_ipp_value = get_data('5', 'Период', 'Регион', 'statistics', 'ipp', 'пп', 'г. Москва','Код ОКВЭД', 'C')\n",
    "MSK_wage_value = get_data('5', 'Период', 'Регион', 'statistics', 'wage', 'пп расчёт', 'г. Москва','Код Разреза', '101.АГ')\n",
    "RUS_wage_value = get_data('5', 'Период', 'Регион', 'statistics', 'wage', 'пп расчёт', 'Российская Федерация','Код Разреза', '101.АГ')\n",
    "MSK_real_wage_value = get_data('5', 'Год', 'Регион', 'statistics', 'real_wage', 'Реальная заработная плата', 'г. Москва', None, None)\n",
    "RUS_real_wage_value = get_data('5', 'Год', 'Регион', 'statistics', 'real_wage', 'Реальная заработная плата', 'Российская Федерация', None, None)"
   ]
  },
  {
   "cell_type": "code",
   "execution_count": 190,
   "metadata": {},
   "outputs": [
    {
     "name": "stdout",
     "output_type": "stream",
     "text": [
      "2025-02-20 17:26:54,788 INFO sqlalchemy.engine.Engine \n",
      "        SELECT [Год], [Регион], [Реальная заработная плата]/100 as value FROM [MAIN].[statistics].[real_wage]\n",
      "        WHERE [Регион] in ('г. Москва') AND [Год] >=(SELECT MAX([Год])-5 FROM [MAIN].[statistics].[real_wage])\n",
      "        \n",
      "2025-02-20 17:26:54,790 INFO sqlalchemy.engine.Engine [raw sql] {}\n"
     ]
    },
    {
     "data": {
      "text/plain": [
       "33.71789116060623"
      ]
     },
     "execution_count": 190,
     "metadata": {},
     "output_type": "execute_result"
    }
   ],
   "source": [
    "def get_data(n, date, region, schema, table, value, region_filter, filter_col, filter):\n",
    "    if filter is not None:\n",
    "        filter_query = f\" AND [{filter_col}] = ('{filter}')\"\n",
    "    else:\n",
    "        filter_query = f\"\"\n",
    "    if date == 'Год':\n",
    "        df = pd.read_sql_query(f\"\"\"\n",
    "        SELECT [{date}], [{region}], [{value}]/100 as value FROM [MAIN].[{schema}].[{table}]\n",
    "        WHERE [{region}] in ('{region_filter}') AND [{date}] >=(SELECT MAX([{date}])-{n} FROM [MAIN].[{schema}].[{table}]){filter_query}\n",
    "        \"\"\",\n",
    "        con = con\n",
    "        )\n",
    "    else:\n",
    "        df = pd.read_sql_query(f\"\"\"\n",
    "        SELECT [{date}], [{region}], [{value}]/100 as value FROM [MAIN].[{schema}].[{table}]\n",
    "        WHERE [{region}] in ('{region_filter}') AND MONTH([{date}]) = 12 AND YEAR([{date}]) >= (SELECT MAX(YEAR([{date}]))-{n} FROM [MAIN].[{schema}].[{table}]){filter_query}\n",
    "        \"\"\",\n",
    "        con = con\n",
    "        )\n",
    "    value = (math.prod(df['value'])*100-100)\n",
    "    return value\n",
    "get_data('5', 'Год', 'Регион', 'statistics', 'real_wage', 'Реальная заработная плата', 'г. Москва',None, None)"
   ]
  },
  {
   "cell_type": "code",
   "execution_count": 184,
   "metadata": {},
   "outputs": [
    {
     "name": "stdout",
     "output_type": "stream",
     "text": [
      "2025-02-20 17:06:09,799 INFO sqlalchemy.engine.Engine \n",
      "        SELECT [Период], [Регион], [пп]/100 as value FROM [MAIN].[statistics].[ipp]\n",
      "        WHERE [Регион] in ('г. Москва') AND MONTH([Период]) = 12 AND YEAR([Период]) >= (SELECT MAX(YEAR([Период]))-5 FROM [MAIN].[statistics].[ipp]) AND [Код ОКВЭД] = ('C')\n",
      "        \n",
      "2025-02-20 17:06:09,801 INFO sqlalchemy.engine.Engine [raw sql] {}\n"
     ]
    },
    {
     "data": {
      "text/plain": [
       "191.3161316756404"
      ]
     },
     "execution_count": 184,
     "metadata": {},
     "output_type": "execute_result"
    }
   ],
   "source": [
    "MSK_ipp_value = get_data('5', 'Период', 'Регион', 'statistics', 'ipp', 'пп', 'г. Москва','Код ОКВЭД', 'C')\n",
    "MSK_ipp_value"
   ]
  }
 ],
 "metadata": {
  "kernelspec": {
   "display_name": "Python 3",
   "language": "python",
   "name": "python3"
  },
  "language_info": {
   "codemirror_mode": {
    "name": "ipython",
    "version": 3
   },
   "file_extension": ".py",
   "mimetype": "text/x-python",
   "name": "python",
   "nbconvert_exporter": "python",
   "pygments_lexer": "ipython3",
   "version": "3.11.9"
  }
 },
 "nbformat": 4,
 "nbformat_minor": 2
}
